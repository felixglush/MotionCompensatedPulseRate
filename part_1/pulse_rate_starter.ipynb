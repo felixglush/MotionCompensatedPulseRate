{
 "cells": [
  {
   "cell_type": "markdown",
   "metadata": {},
   "source": [
    "## Part 1: Pulse Rate Algorithm\n",
    "\n",
    "### Contents\n",
    "Fill out this notebook as part of your final project submission.\n",
    "\n",
    "**You will have to complete both the Code and Project Write-up sections.**\n",
    "- The [Code](#Code) is where you will write a **pulse rate algorithm** and already includes the starter code.\n",
    "   - Imports - These are the imports needed for Part 1 of the final project. \n",
    "     - [glob](https://docs.python.org/3/library/glob.html)\n",
    "     - [numpy](https://numpy.org/)\n",
    "     - [scipy](https://www.scipy.org/)\n",
    "- The [Project Write-up](#Project-Write-up) to describe why you wrote the algorithm for the specific case.\n",
    "\n",
    "\n",
    "### Dataset\n",
    "You will be using the **Troika**[1] dataset to build your algorithm. Find the dataset under `datasets/troika/training_data`. The `README` in that folder will tell you how to interpret the data. The starter code contains a function to help load these files.\n",
    "\n",
    "1. Zhilin Zhang, Zhouyue Pi, Benyuan Liu, ‘‘TROIKA: A General Framework for Heart Rate Monitoring Using Wrist-Type Photoplethysmographic Signals During Intensive Physical Exercise,’’IEEE Trans. on Biomedical Engineering, vol. 62, no. 2, pp. 522-531, February 2015. Link\n",
    "\n",
    "-----"
   ]
  },
  {
   "cell_type": "markdown",
   "metadata": {},
   "source": [
    "### Code"
   ]
  },
  {
   "cell_type": "code",
   "execution_count": 7,
   "metadata": {},
   "outputs": [
    {
     "data": {
      "text/plain": [
       "8.322564029416503"
      ]
     },
     "execution_count": 7,
     "metadata": {},
     "output_type": "execute_result"
    }
   ],
   "source": [
    "import glob\n",
    "\n",
    "import numpy as np\n",
    "import scipy as sp\n",
    "import scipy.signal\n",
    "import scipy.io\n",
    "\n",
    "\n",
    "def LoadTroikaDataset():\n",
    "    \"\"\"\n",
    "    Retrieve the .mat filenames for the troika dataset.\n",
    "\n",
    "    Review the README in ./datasets/troika/ to understand the organization of the .mat files.\n",
    "\n",
    "    Returns:\n",
    "        data_fls: Names of the .mat files that contain signal data\n",
    "        ref_fls: Names of the .mat files that contain reference data\n",
    "        <data_fls> and <ref_fls> are ordered correspondingly, so that ref_fls[5] is the \n",
    "            reference data for data_fls[5], etc...\n",
    "    \"\"\"\n",
    "    data_dir = \"./datasets/troika/training_data\"\n",
    "    data_fls = sorted(glob.glob(data_dir + \"/DATA_*.mat\"))\n",
    "    ref_fls = sorted(glob.glob(data_dir + \"/REF_*.mat\"))\n",
    "    return data_fls, ref_fls\n",
    "\n",
    "def LoadTroikaDataFile(data_fl):\n",
    "    \"\"\"\n",
    "    Loads and extracts signals from a troika data file.\n",
    "\n",
    "    Usage:\n",
    "        data_fls, ref_fls = LoadTroikaDataset()\n",
    "        ppg, accx, accy, accz = LoadTroikaDataFile(data_fls[0])\n",
    "\n",
    "    Args:\n",
    "        data_fl: (str) filepath to a troika .mat file.\n",
    "\n",
    "    Returns:\n",
    "        numpy arrays for ppg, accx, accy, accz signals.\n",
    "    \"\"\"\n",
    "    data = sp.io.loadmat(data_fl)['sig']\n",
    "    return data[2:]\n",
    "\n",
    "def AggregateErrorMetric(pr_errors, confidence_est):\n",
    "    \"\"\"\n",
    "    Computes an aggregate error metric based on confidence estimates.\n",
    "\n",
    "    Computes the MAE at 90% availability. \n",
    "\n",
    "    Args:\n",
    "        pr_errors: a numpy array of errors between pulse rate estimates and corresponding \n",
    "            reference heart rates.\n",
    "        confidence_est: a numpy array of confidence estimates for each pulse rate\n",
    "            error.\n",
    "\n",
    "    Returns:\n",
    "        the MAE at 90% availability\n",
    "    \"\"\"\n",
    "    # Higher confidence means a better estimate. The best 90% of the estimates\n",
    "    #    are above the 10th percentile confidence.\n",
    "    percentile90_confidence = np.percentile(confidence_est, 10)\n",
    "\n",
    "    # Find the errors of the best pulse rate estimates\n",
    "    best_estimates = pr_errors[confidence_est >= percentile90_confidence]\n",
    "\n",
    "    # Return the mean absolute error\n",
    "    return np.mean(np.abs(best_estimates))\n",
    "\n",
    "def Evaluate():\n",
    "    \"\"\"\n",
    "    Top-level function evaluation function.\n",
    "\n",
    "    Runs the pulse rate algorithm on the Troika dataset and returns an aggregate error metric.\n",
    "\n",
    "    Returns:\n",
    "        Pulse rate error on the Troika dataset. See AggregateErrorMetric.\n",
    "    \"\"\"\n",
    "    # Retrieve dataset files\n",
    "    data_fls, ref_fls = LoadTroikaDataset()\n",
    "    errs, confs = [], []\n",
    "    for data_fl, ref_fl in zip(data_fls, ref_fls):\n",
    "        # Run the pulse rate algorithm on each trial in the dataset\n",
    "        errors, confidence = RunPulseRateAlgorithm(data_fl, ref_fl)\n",
    "        errs.append(errors)\n",
    "        confs.append(confidence)\n",
    "        \n",
    "    errs = np.hstack(errs)\n",
    "    confs = np.hstack(confs)\n",
    "    return AggregateErrorMetric(errs, confs)\n",
    "\n",
    "def BandpassFilter(signal, fs):\n",
    "    \"\"\"\n",
    "    Filters out low and high frequencies\n",
    "    \n",
    "    Args:\n",
    "        signal: a numpy array of the signal\n",
    "        fs: the sampling frequency in Hz\n",
    "        \n",
    "    Returns:\n",
    "        A filtered signal\n",
    "    \"\"\"\n",
    "    low_freq, high_freq = 40 / 60, 240 / 60 # divide by seconds in a minute to get Hz\n",
    "    b, a = scipy.signal.butter(3, (low_freq, high_freq), btype='bandpass', fs=fs)\n",
    "    return scipy.signal.filtfilt(b, a, signal)\n",
    "\n",
    "def FFT(signal, fs):\n",
    "    fft = np.abs(np.fft.rfft(signal))\n",
    "    fftfreq = np.fft.rfftfreq(len(signal), 1 / fs)\n",
    "    return fft, fftfreq\n",
    "\n",
    "def Confidence(bpm_estimate_freq, fft, fftfreqs, frequency_neighbourhood=30/60):\n",
    "    \"\"\"\n",
    "    Calculates the confidence using the energy spectrum of the neighbourhood around the estimated frequency\n",
    "    \n",
    "    Args:\n",
    "        bpm_estimate_freq: the estimated frequency of the heart rate\n",
    "        fft: the fourier transform of the PPG signal\n",
    "        fftfreqs: the corresponding frequencies of the PPG signal\n",
    "    \"\"\"\n",
    "    \n",
    "    # frequency_neighbourhood up and down from the bpm_estimate_freq\n",
    "    bpm_neighbourhood_mask = (fftfreqs > bpm_estimate_freq - frequency_neighbourhood) & (fftfreqs < bpm_estimate_freq + frequency_neighbourhood)\n",
    "    window_energy = np.sum(fft[bpm_neighbourhood_mask])\n",
    "    return window_energy / np.sum(fft)\n",
    "    \n",
    "def ComputeHeartRate(ppg, acc, fs):\n",
    "    \n",
    "    '''\n",
    "        From the data docs:\n",
    "        BPM value is in every 8-second time window. Two successive time windows overlap by 6 seconds.\n",
    "        Thus the first value in 'BPM0' gives the calculated heart rate ground-truth in\n",
    "        the first 8 seconds, while the second value in 'BPM0' gives the calculated heart rate ground-truth\n",
    "        from the 3rd second to the 10th second\n",
    "        \n",
    "        Thus, we will estimate the ppg signal using the same window size.\n",
    "        \n",
    "        Args:\n",
    "            ppg: filtered PPG data\n",
    "            acc: an array containing the 3 components of the accelerometer \n",
    "            fs: sampling frequency\n",
    "        \n",
    "        Returns:\n",
    "            hr_estimates: an array of the chosen heart rate estimates. each value represents the heart rate in an 8 second window\n",
    "            hr_confidences: an array of the confidences as calculated using Confidence() \n",
    "    '''\n",
    "    \n",
    "    interval_jump = 2 * fs # samples/second number of values into the data\n",
    "    window_size = 8 * fs\n",
    "    diff_threshold = 0.2\n",
    "    hr_diff_threshold = 0.15\n",
    "    previous_hr_window_size = 5\n",
    "    \n",
    "    hr_estimates, hr_confidences = [], []\n",
    "    \n",
    "    accx, accy, accz = acc[0], acc[1], acc[2]\n",
    "    \n",
    "    ''' \n",
    "        Loop through the entire signal in steps, find the primary frequencies of the strongest ppg and acc signal \n",
    "        (these indicate heart beat and movement, respectively).\n",
    "        if they're nearly the same, pick the next best ppg signal. \n",
    "        If there's no best next signal, assume the ppg sensor and accelerometer truly synced up.\n",
    "        Also calculate the energy of the frequency spectrum in the neighbourhood\n",
    "        of the pulse estimate for the confidence estimate\n",
    "        \n",
    "        Assumption: heart rate is relatively constant within 8 second windows during steady state activity\n",
    "        so should have a detectable frequency.\n",
    "    '''\n",
    "    \n",
    "    for i in range(0, len(ppg) - window_size, interval_jump):\n",
    "        ppg_fourier, ppg_freqs = FFT(ppg[i:i + window_size], fs)\n",
    "        accx_fourier, accx_freqs = FFT(accx[i:i + window_size], fs)\n",
    "        accy_fourier, accy_freqs = FFT(accy[i:i + window_size], fs)\n",
    "        accz_fourier, accz_freqs = FFT(accz[i:i + window_size], fs)\n",
    "    \n",
    "        # get the indices that sort the frequency components\n",
    "        bpm_candidate_indices = np.argsort(ppg_fourier)\n",
    "        accx_candidate_indices = np.argsort(accx_fourier)\n",
    "        accy_candidate_indices = np.argsort(accy_fourier)\n",
    "        accz_candidate_indices = np.argsort(accz_fourier)\n",
    "        \n",
    "        # choose the highest frequencies for each signal\n",
    "        ppg_dominant_f = ppg_freqs[bpm_candidate_indices[-1]]\n",
    "        accx_dominant_f = accx_freqs[accx_candidate_indices[-1]]\n",
    "        accy_dominant_f = accy_freqs[accy_candidate_indices[-1]]\n",
    "        accz_dominant_f = accz_freqs[accz_candidate_indices[-1]]\n",
    "        \n",
    "        \n",
    "        # select the best frequency for the heart rate estimate if the PPG and accelerometer frequencies are similar\n",
    "        close_match = np.abs(ppg_dominant_f - accx_dominant_f) < diff_threshold or\\\n",
    "        np.abs(ppg_dominant_f - accy_dominant_f) < diff_threshold or\\\n",
    "        np.abs(ppg_dominant_f - accz_dominant_f) < diff_threshold\n",
    "        \n",
    "        if close_match and len(hr_estimates) >= previous_hr_window_size:\n",
    "            k = 2\n",
    "            \n",
    "            next_candidate = ppg_freqs[bpm_candidate_indices[-k]]\n",
    "            \n",
    "            previous_hr_window_mean = np.mean(hr_estimates[-previous_hr_window_size:]) \n",
    "            # if the first next_candidate is within 15% of the mean of the last 5 measurement, skip loop\n",
    "            # otherwise, try finding a next candidate (in at most k steps)\n",
    "            while k <= 5 and\\\n",
    "                np.abs(previous_hr_window_mean - next_candidate * 60) / previous_hr_window_mean > hr_diff_threshold:\n",
    "                k += 1\n",
    "                next_candidate = ppg_freqs[bpm_candidate_indices[-k]]\n",
    "\n",
    "            ppg_dominant_f = next_candidate\n",
    "        hr_estimates.append(ppg_dominant_f * 60)\n",
    "        hr_confidences.append(Confidence(ppg_dominant_f, ppg_fourier, ppg_freqs))\n",
    "        \n",
    "    return hr_estimates, hr_confidences\n",
    "\n",
    "def RunPulseRateAlgorithm(data_fl, ref_fl):\n",
    "    fs = 125 # sampling frequency for the data, Hz\n",
    "\n",
    "    # Load data using LoadTroikaDataFile\n",
    "    ppg, accx, accy, accz = LoadTroikaDataFile(data_fl)\n",
    "    \n",
    "    # Filter the signals to within 40 and 240 bpm\n",
    "    ppg = BandpassFilter(ppg, fs)\n",
    "    accx = BandpassFilter(accx, fs)\n",
    "    accy = BandpassFilter(accy, fs)\n",
    "    accz = BandpassFilter(accz, fs)\n",
    "        \n",
    "    # Compute pulse rate estimates and estimation confidence.\n",
    "    hr_estimates, hr_confidences = ComputeHeartRate(ppg, [accx, accy, accz], fs)\n",
    "    \n",
    "    # Return per-estimate mean absolute error and confidence as a 2-tuple of numpy arrays.\n",
    "    reference_hr = sp.io.loadmat(ref_fl)['BPM0']\n",
    "    \n",
    "    errors = np.diag(np.subtract(hr_estimates, reference_hr))\n",
    "    \n",
    "    return errors, hr_confidences\n",
    "\n",
    "Evaluate()"
   ]
  },
  {
   "cell_type": "markdown",
   "metadata": {},
   "source": [
    "#### Data exploration"
   ]
  },
  {
   "cell_type": "code",
   "execution_count": 8,
   "metadata": {},
   "outputs": [],
   "source": [
    "from matplotlib import pyplot as plt"
   ]
  },
  {
   "cell_type": "code",
   "execution_count": 9,
   "metadata": {},
   "outputs": [],
   "source": [
    "%matplotlib inline"
   ]
  },
  {
   "cell_type": "code",
   "execution_count": 10,
   "metadata": {},
   "outputs": [
    {
     "data": {
      "image/png": "[encoded data removed]",
      "text/plain": [
       "<Figure size 864x576 with 1 Axes>"
      ]
     },
     "metadata": {
      "needs_background": "light"
     },
     "output_type": "display_data"
    }
   ],
   "source": [
    "fs = 125\n",
    "data_fls, ref_fls = LoadTroikaDataset()\n",
    "\n",
    "_, subject_id, run_type = data_fls[0].split('/')[-1].split('_')\n",
    "run_type = run_type[4:6]\n",
    "    \n",
    "ppg, accx, accy, accz = LoadTroikaDataFile(data_fls[0])\n",
    "\n",
    "ts = np.arange(len(ppg)) / fs\n",
    "plt.figure(figsize=(12, 8))  \n",
    "plt.plot(ts, accx, label='x')\n",
    "plt.plot(ts, accy, label='y')\n",
    "plt.plot(ts, accz, label='z')\n",
    "plt.title('{}_{}'.format(\"subject: \" + subject_id, \"run type: \" + run_type))\n",
    "plt.legend()\n",
    "plt.ylim((-25, 25))\n",
    "plt.draw()"
   ]
  },
  {
   "cell_type": "code",
   "execution_count": 26,
   "metadata": {},
   "outputs": [],
   "source": [
    "def plot_freqdomain(data, title, fs):    \n",
    "    bandpass = BandpassFilter(data, fs)\n",
    "    fft, freqs = FFT(bandpass, fs)\n",
    "    plt.clf()\n",
    "    plt.title(title)\n",
    "    plt.plot(freqs, np.abs(fft))\n",
    "    plt.xlabel('Frequency (Hz)')"
   ]
  },
  {
   "cell_type": "code",
   "execution_count": 12,
   "metadata": {},
   "outputs": [
    {
     "data": {
      "text/plain": [
       "303.496"
      ]
     },
     "execution_count": 12,
     "metadata": {},
     "output_type": "execute_result"
    }
   ],
   "source": [
    "len(ppg)/fs # samples / (samples/s) = seconds"
   ]
  },
  {
   "cell_type": "code",
   "execution_count": 13,
   "metadata": {},
   "outputs": [],
   "source": [
    "window_len = 8*fs"
   ]
  },
  {
   "cell_type": "markdown",
   "metadata": {},
   "source": [
    "The amplitude of the waves in the first graph is larger at the beginning and end and this corresponds to movement in the accelerometer as seen in the second graph."
   ]
  },
  {
   "cell_type": "code",
   "execution_count": 14,
   "metadata": {},
   "outputs": [
    {
     "data": {
      "text/plain": [
       "[<matplotlib.lines.Line2D at 0x7f69b187a7b8>]"
      ]
     },
     "execution_count": 14,
     "metadata": {},
     "output_type": "execute_result"
    },
    {
     "data": {
      "image/png": "[encoded data removed]",
      "text/plain": [
       "<Figure size 432x288 with 1 Axes>"
      ]
     },
     "metadata": {
      "needs_background": "light"
     },
     "output_type": "display_data"
    }
   ],
   "source": [
    "plt.plot(BandpassFilter(ppg[:window_len], fs))"
   ]
  },
  {
   "cell_type": "code",
   "execution_count": 15,
   "metadata": {},
   "outputs": [
    {
     "data": {
      "text/plain": [
       "[<matplotlib.lines.Line2D at 0x7f69b1a480f0>]"
      ]
     },
     "execution_count": 15,
     "metadata": {},
     "output_type": "execute_result"
    },
    {
     "data": {
      "image/png": "[encoded data removed]",
      "text/plain": [
       "<Figure size 432x288 with 1 Axes>"
      ]
     },
     "metadata": {
      "needs_background": "light"
     },
     "output_type": "display_data"
    }
   ],
   "source": [
    "acc = np.sqrt(accx**2 + accy**2 + accz**2)\n",
    "plt.plot(BandpassFilter(acc[:window_len], fs))"
   ]
  },
  {
   "cell_type": "markdown",
   "metadata": {},
   "source": [
    "-----\n",
    "### Project Write-up\n",
    "\n",
    "Answer the following prompts to demonstrate understanding of the algorithm you wrote for this specific context.\n",
    "\n",
    "> - **Code Description** - ComputeHeartRate(ppg, acc, fs) takes in the bandpass filtered PPG signal, an array of the 3 components of the accelerometer, and the data sampling frequency and returns the heart rate estimates for the data. Run Evaluate() to get the mean error.\n",
    "\n",
    "> - **Data Description** - The data consists of two-channel PPG signals, three-axis acceleration signals, and one-channel ECG signals that were simultaneously recorded from subjects with age from 18 to 35. The ECG signals were used to create target ground-truth values for heart rate (as ECGs are more accurate than wrist-based PPG). The subjects were told to run complete two heart rate tests. There are only 12 subjects and no demographic data in this study.\n",
    "\n",
    "> - **Algorithhm Description** - Since the ground-truth values are given for each 8 second window with a stride of 2 seconds, the algorithm takes each 8 second window for the PPG and separate accelerometer components, performs a bandpass filter to remove low and high frequencies (noise) and then computes the fourier transform of each component window to attempt to separate the motion induced frequencies from the PPG signal. The highest frequency for the PPG is chosen and compared to each component of the accelerometer. If any is within 0.2, then the next good candidate for the PPG is chosen (the next candidate is chosen at most 4 times). The criteria is that the next candidate heart rate is within 15% of the mean of the previous 7 heart rate estimates. This is because heart rate does not vary drastically during steady state activities. 15% is therefore large enough to account for shifts in heart rate between running at 8 km/h and 15 km/h, for example, but small enough to discard unusual frequencies. The algorithm returns the heart rate estimates as well as the confidences for each estimate. These confidences are measured as the ratio of the sum of the frequencies surrounding the chose estimate frequency to the sum of the entire spectrum. The window size around which to sum the frequencies was determined so as to produce a good BPM estimate.\n",
    "\n",
    "> - **Algorithm Performance** - The mean absolute error for the best 90% of estimates was used as a performance metric. On the training set, the algorithm achieves an error of 8.32 beats and on the test set it has an error of 2.48, well below the allowable maximum of 15 beats. The algorithm is tuned for heart rate below 210bpm. While this is reasonable for most individuals exercising at the prescribed pace, it may not be accurate for young people who physiologically have higher heart rates than the adults in the data. However, the algorithm works quite well for the given data and could be a useful starting point in building a more general algorithm with a larger, more diverse dataset that has more age groups and activity types."
   ]
  },
  {
   "cell_type": "markdown",
   "metadata": {},
   "source": [
    "-----\n",
    "### Next Steps\n",
    "You will now go to **Test Your Algorithm** to apply a unit test to confirm that your algorithm met the success criteria. "
   ]
  }
 ],
 "metadata": {
  "kernelspec": {
   "display_name": "Python 3",
   "language": "python",
   "name": "python3"
  },
  "language_info": {
   "codemirror_mode": {
    "name": "ipython",
    "version": 3
   },
   "file_extension": ".py",
   "mimetype": "text/x-python",
   "name": "python",
   "nbconvert_exporter": "python",
   "pygments_lexer": "ipython3",
   "version": "3.7.3"
  }
 },
 "nbformat": 4,
 "nbformat_minor": 4
}
